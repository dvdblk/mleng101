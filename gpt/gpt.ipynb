{
 "cells": [
  {
   "cell_type": "markdown",
   "metadata": {},
   "source": [
    "# GPT experiments\n",
    "\n",
    "building a character-level language model"
   ]
  },
  {
   "cell_type": "markdown",
   "metadata": {},
   "source": [
    "### Data\n",
    "\n",
    "### get data (tinyshakespeare)"
   ]
  },
  {
   "cell_type": "code",
   "execution_count": 1,
   "metadata": {},
   "outputs": [],
   "source": [
    "import requests\n",
    "import os\n",
    "\n",
    "# constants\n",
    "DATA_URL = \"https://raw.githubusercontent.com/karpathy/char-rnn/master/data/tinyshakespeare/input.txt\"\n",
    "DATA_DIR = \"../data\"\n",
    "\n",
    "def download_tinyshakespeare() -> str:\n",
    "    \"\"\"Returns downloaded data file path\"\"\"\n",
    "    # create dir if needed\n",
    "    os.makedirs(DATA_DIR, exist_ok=True)\n",
    "\n",
    "    # download and open the file\n",
    "    data_file_path = os.path.join(DATA_DIR, \"tinyshakespeare.txt\")\n",
    "    response = requests.get(url=DATA_URL)\n",
    "    with open(data_file_path, \"wb\") as f:\n",
    "        f.write(response.content)\n",
    "\n",
    "    return data_file_path\n",
    "\n",
    "data_file_path = download_tinyshakespeare()"
   ]
  },
  {
   "cell_type": "markdown",
   "metadata": {},
   "source": [
    "### Load data"
   ]
  },
  {
   "cell_type": "code",
   "execution_count": 8,
   "metadata": {},
   "outputs": [
    {
     "name": "stdout",
     "output_type": "stream",
     "text": [
      "Total # of characters in dataset 1115394\n",
      "\n",
      "First 200 characters First Citizen:\n",
      "Before we proceed any further, hear me speak.\n",
      "\n",
      "All:\n",
      "Speak, speak.\n",
      "\n",
      "First Citizen:\n",
      "You are all resolved rather to die than to famish?\n",
      "\n",
      "All:\n",
      "Resolved. resolved.\n",
      "\n",
      "First Citizen:\n",
      "First, you\n"
     ]
    }
   ],
   "source": [
    "with open(data_file_path, \"r\", encoding=\"utf-8\") as f:\n",
    "    tinyshakespeare_text = f.read()\n",
    "\n",
    "print(\"Total # of characters in dataset\", len(tinyshakespeare_text))\n",
    "print()\n",
    "print(\"First 200 characters\", tinyshakespeare_text[:200])\n"
   ]
  },
  {
   "cell_type": "markdown",
   "metadata": {},
   "source": [
    "### Vocabulary (tokenization)\n",
    "\n",
    "Can use SentencePiece (BPE encodings = sub-word unit level encodings) or tiktoken"
   ]
  },
  {
   "cell_type": "code",
   "execution_count": 22,
   "metadata": {},
   "outputs": [
    {
     "name": "stdout",
     "output_type": "stream",
     "text": [
      "Number of unique characters in vocabulary: 65 \n",
      "\n",
      "[46, 47, 47, 1, 10, 9]\n",
      "lemme cook\n"
     ]
    }
   ],
   "source": [
    "from typing import List\n",
    "\n",
    "# Create encoder and decoder for vocabulary (character level)\n",
    "unique_characters = sorted(list(set(tinyshakespeare_text)))\n",
    "vocab_size = len(unique_characters)\n",
    "print(\"Number of unique characters in vocabulary:\", vocab_size, \"\\n\")\n",
    "# tiktoken has 50k unique chars as opposed to 65 here\n",
    "\n",
    "char_to_int_mapping = { ch: i for i, ch in enumerate(unique_characters) }\n",
    "int_to_char_mapping = { i: ch for i, ch in enumerate(unique_characters) }\n",
    "\n",
    "def encode(s: str) -> List[int]:\n",
    "    \"\"\"Return a list of integers for a given string\"\"\"\n",
    "    return [char_to_int_mapping[c] for c in s]\n",
    "\n",
    "def decode(l: List[int]) -> str:\n",
    "    \"\"\"Return a string given a list of integers\"\"\"\n",
    "    return \"\".join([int_to_char_mapping[i] for i in l])\n",
    "\n",
    "print(encode(\"hii :3\"))\n",
    "print(decode([50, 43, 51, 51, 43, 1, 41, 53, 53, 49]))"
   ]
  },
  {
   "cell_type": "code",
   "execution_count": 23,
   "metadata": {},
   "outputs": [
    {
     "name": "stdout",
     "output_type": "stream",
     "text": [
      "torch.Size([1115394]) torch.int64\n",
      "tensor([18, 47, 56, 57, 58,  1, 15, 47, 58, 47, 64, 43, 52, 10,  0, 14, 43, 44,\n",
      "        53, 56, 43,  1, 61, 43,  1, 54, 56, 53, 41, 43, 43, 42,  1, 39, 52, 63,\n",
      "         1, 44, 59, 56, 58, 46, 43, 56,  6,  1, 46, 43, 39, 56,  1, 51, 43,  1,\n",
      "        57, 54, 43, 39, 49,  8,  0,  0, 13, 50, 50, 10,  0, 31, 54, 43, 39, 49,\n",
      "         6,  1, 57, 54, 43, 39, 49,  8,  0,  0, 18, 47, 56, 57, 58,  1, 15, 47,\n",
      "        58, 47, 64, 43, 52, 10,  0, 37, 53, 59,  1, 39, 56, 43,  1, 39, 50, 50,\n",
      "         1, 56, 43, 57, 53, 50, 60, 43, 42,  1, 56, 39, 58, 46, 43, 56,  1, 58,\n",
      "        53,  1, 42, 47, 43,  1, 58, 46, 39, 52,  1, 58, 53,  1, 44, 39, 51, 47,\n",
      "        57, 46, 12,  0,  0, 13, 50, 50, 10,  0, 30, 43, 57, 53, 50, 60, 43, 42,\n",
      "         8,  1, 56, 43, 57, 53, 50, 60, 43, 42,  8,  0,  0, 18, 47, 56, 57, 58,\n",
      "         1, 15, 47, 58, 47, 64, 43, 52, 10,  0, 18, 47, 56, 57, 58,  6,  1, 63,\n",
      "        53, 59])\n"
     ]
    }
   ],
   "source": [
    "import torch\n",
    "# create a long vector of integers from the entire training data\n",
    "data = torch.tensor(encode(tinyshakespeare_text))\n",
    "print(data.shape, data.dtype)\n",
    "print(data[:200])"
   ]
  },
  {
   "cell_type": "markdown",
   "metadata": {},
   "source": [
    "### train/test (val) split"
   ]
  },
  {
   "cell_type": "code",
   "execution_count": 25,
   "metadata": {},
   "outputs": [],
   "source": [
    "n = int(0.9*len(data))\n",
    "train_data = data[:n]\n",
    "val_data = data[n:]"
   ]
  },
  {
   "cell_type": "code",
   "execution_count": 39,
   "metadata": {},
   "outputs": [
    {
     "name": "stdout",
     "output_type": "stream",
     "text": [
      "in the context of [18] ---> 47 is the target (comes next in the sequence)\n",
      "in the context of [18, 47] ---> 56 is the target (comes next in the sequence)\n",
      "in the context of [18, 47, 56] ---> 57 is the target (comes next in the sequence)\n",
      "in the context of [18, 47, 56, 57] ---> 58 is the target (comes next in the sequence)\n",
      "in the context of [18, 47, 56, 57, 58] ---> 1 is the target (comes next in the sequence)\n",
      "in the context of [18, 47, 56, 57, 58, 1] ---> 15 is the target (comes next in the sequence)\n",
      "in the context of [18, 47, 56, 57, 58, 1, 15] ---> 47 is the target (comes next in the sequence)\n",
      "in the context of [18, 47, 56, 57, 58, 1, 15, 47] ---> 58 is the target (comes next in the sequence)\n"
     ]
    }
   ],
   "source": [
    "BLOCK_SIZE = 8\n",
    "\n",
    "# create chunks of BLOCK_SIZE characters\n",
    "first_chunk = train_data[:BLOCK_SIZE+1]\n",
    "\n",
    "for i in range(1, len(first_chunk)):\n",
    "    context = first_chunk[:i].tolist()\n",
    "    target = first_chunk[i].item()\n",
    "    print(\"in the context of\", context, \"--->\", target, \"is the target (comes next in the sequence)\")\n",
    "\n",
    "# train on all the BLOCK_SIZE examples, from context of 1 to context of BLOCK_SIZE\n",
    "# makes the transformer network used to seeing short and long contexts and everything in between\n",
    "# each chunk is processed independently in a batch by the GPU\n"
   ]
  },
  {
   "cell_type": "code",
   "execution_count": 52,
   "metadata": {},
   "outputs": [
    {
     "name": "stdout",
     "output_type": "stream",
     "text": [
      "X (inputs): torch.Size([4, 8]) \n",
      " tensor([[24, 43, 58,  5, 57,  1, 46, 43],\n",
      "        [44, 53, 56,  1, 58, 46, 39, 58],\n",
      "        [52, 58,  1, 58, 46, 39, 58,  1],\n",
      "        [25, 17, 27, 10,  0, 21,  1, 54]])\n",
      "\n",
      "Y (targets): torch.Size([4, 8]) \n",
      " tensor([[43, 58,  5, 57,  1, 46, 43, 39],\n",
      "        [53, 56,  1, 58, 46, 39, 58,  1],\n",
      "        [58,  1, 58, 46, 39, 58,  1, 46],\n",
      "        [17, 27, 10,  0, 21,  1, 54, 39]])\n",
      "\n",
      "For X (input): tensor([24]) the target is: tensor(43)\n",
      "For X (input): tensor([24, 43]) the target is: tensor(58)\n",
      "For X (input): tensor([24, 43, 58]) the target is: tensor(5)\n",
      "For X (input): tensor([24, 43, 58,  5]) the target is: tensor(57)\n",
      "For X (input): tensor([24, 43, 58,  5, 57]) the target is: tensor(1)\n",
      "For X (input): tensor([24, 43, 58,  5, 57,  1]) the target is: tensor(46)\n",
      "For X (input): tensor([24, 43, 58,  5, 57,  1, 46]) the target is: tensor(43)\n",
      "For X (input): tensor([24, 43, 58,  5, 57,  1, 46, 43]) the target is: tensor(39)\n",
      "For X (input): tensor([44]) the target is: tensor(53)\n",
      "For X (input): tensor([44, 53]) the target is: tensor(56)\n",
      "For X (input): tensor([44, 53, 56]) the target is: tensor(1)\n",
      "For X (input): tensor([44, 53, 56,  1]) the target is: tensor(58)\n",
      "For X (input): tensor([44, 53, 56,  1, 58]) the target is: tensor(46)\n",
      "For X (input): tensor([44, 53, 56,  1, 58, 46]) the target is: tensor(39)\n",
      "For X (input): tensor([44, 53, 56,  1, 58, 46, 39]) the target is: tensor(58)\n",
      "For X (input): tensor([44, 53, 56,  1, 58, 46, 39, 58]) the target is: tensor(1)\n",
      "For X (input): tensor([52]) the target is: tensor(58)\n",
      "For X (input): tensor([52, 58]) the target is: tensor(1)\n",
      "For X (input): tensor([52, 58,  1]) the target is: tensor(58)\n",
      "For X (input): tensor([52, 58,  1, 58]) the target is: tensor(46)\n",
      "For X (input): tensor([52, 58,  1, 58, 46]) the target is: tensor(39)\n",
      "For X (input): tensor([52, 58,  1, 58, 46, 39]) the target is: tensor(58)\n",
      "For X (input): tensor([52, 58,  1, 58, 46, 39, 58]) the target is: tensor(1)\n",
      "For X (input): tensor([52, 58,  1, 58, 46, 39, 58,  1]) the target is: tensor(46)\n",
      "For X (input): tensor([25]) the target is: tensor(17)\n",
      "For X (input): tensor([25, 17]) the target is: tensor(27)\n",
      "For X (input): tensor([25, 17, 27]) the target is: tensor(10)\n",
      "For X (input): tensor([25, 17, 27, 10]) the target is: tensor(0)\n",
      "For X (input): tensor([25, 17, 27, 10,  0]) the target is: tensor(21)\n",
      "For X (input): tensor([25, 17, 27, 10,  0, 21]) the target is: tensor(1)\n",
      "For X (input): tensor([25, 17, 27, 10,  0, 21,  1]) the target is: tensor(54)\n",
      "For X (input): tensor([25, 17, 27, 10,  0, 21,  1, 54]) the target is: tensor(39)\n"
     ]
    }
   ],
   "source": [
    "torch.manual_seed(1337)\n",
    "BATCH_SIZE = 4\n",
    "BLOCK_SIZE = 8\n",
    "\n",
    "def get_batch(split):\n",
    "    \"\"\"Generate a small batch of inputs X and targets y\"\"\"\n",
    "    data = train_data if split == \"train\" else val_data\n",
    "    # generate random offsets of the (train/val) data in the range [0, len - BLOCK_SIZE]\n",
    "    random_data_indices = torch.randint(len(data) - BLOCK_SIZE, (BATCH_SIZE,))\n",
    "\n",
    "    x = torch.stack([data[i:i+BLOCK_SIZE] for i in random_data_indices])\n",
    "    y = torch.stack([data[i+1:i+BLOCK_SIZE+1] for i in random_data_indices])\n",
    "    return x, y\n",
    "\n",
    "# X dim: [BATCH_SIZE, BLOCK_SIZE]\n",
    "xb, yb = get_batch(\"train\")\n",
    "print(\"X (inputs):\", xb.shape, \"\\n\", xb)\n",
    "print()\n",
    "print(\"Y (targets):\", yb.shape, \"\\n\", yb)\n",
    "print()\n",
    "\n",
    "for b in range(BATCH_SIZE):     # batch dimension\n",
    "    for t in range(BLOCK_SIZE): # time (block) dimension\n",
    "        context = xb[b, :t+1]\n",
    "        target = yb[b, t]\n",
    "        print(\"For X (input):\", context, \"the target is:\", target)\n"
   ]
  },
  {
   "cell_type": "markdown",
   "metadata": {},
   "source": [
    "## Bigram Language Model"
   ]
  },
  {
   "cell_type": "code",
   "execution_count": 64,
   "metadata": {},
   "outputs": [
    {
     "name": "stdout",
     "output_type": "stream",
     "text": [
      "torch.Size([4, 8])\n",
      "(B*T, C) = (32, 65) torch.Size([32, 65]) tensor(4.8786, grad_fn=<NllLossBackward0>)\n",
      "True\n",
      "\n",
      "Sr?qP-QWktXoL&jLDJgOLVz'RIoDqHdh\n"
     ]
    }
   ],
   "source": [
    "import torch\n",
    "import torch.nn as nn\n",
    "from torch.nn import functional as F\n",
    "\n",
    "torch.manual_seed(1337)\n",
    "\n",
    "class BigramLanguageModel(nn.Module):\n",
    "\n",
    "    def __init__(self, vocab_size) -> None:\n",
    "        super().__init__()\n",
    "\n",
    "        self.token_embedding_table = nn.Embedding(vocab_size, vocab_size)\n",
    "\n",
    "    def forward(self, idx, targets=None):\n",
    "        # batch (4), time(8), channel (65 = vocab_size)\n",
    "        logits = self.token_embedding_table(idx) # (B, T, C)\n",
    "\n",
    "        if targets is None:\n",
    "            loss = None\n",
    "        else:\n",
    "            B, T, C = logits.shape\n",
    "            logits = logits.view(B*T, C)\n",
    "            targets = targets.view(-1) # B*T\n",
    "            loss = F.cross_entropy(logits, targets)\n",
    "\n",
    "        return logits, loss\n",
    "\n",
    "    def generate(self, idx, max_new_tokens):\n",
    "        \"\"\"Generate max_new_tokens tokens in a bigram fashion (context=1)\n",
    "\n",
    "        Args:\n",
    "            idx (idx): (B, T) tensor of indices\n",
    "        \"\"\"\n",
    "        for _ in range(max_new_tokens):\n",
    "            # get logits (preds)\n",
    "            logits, _ = self(idx) # (B, T, C)\n",
    "            # enforce bigram = get last timestep only\n",
    "            logits = logits[:, -1, :] # (B, C)\n",
    "            probs = F.softmax(logits, dim=1) # (B, C)\n",
    "            # sample from the distribution\n",
    "            idx_next = torch.multinomial(probs, num_samples=1) # (B, 1)\n",
    "            idx = torch.cat((idx, idx_next), dim=1) # (B, T+1)\n",
    "\n",
    "        return idx\n",
    "\n",
    "bigram_model = BigramLanguageModel(vocab_size=vocab_size)\n",
    "logits, loss = bigram_model(xb, yb)\n",
    "# xb = 4 batches of random sequences of ints of length BLOCK_SIZE\n",
    "print(xb.shape)\n",
    "print(f\"(B*T, C) = ({BATCH_SIZE*BLOCK_SIZE}, {vocab_size})\", logits.shape, loss)\n",
    "\n",
    "# start with \"\\n\" token e.g. idx = 0\n",
    "print(ord(unique_characters[0]) == ord(\"\\n\"))\n",
    "print(decode(bigram_model.generate(torch.zeros((1, 1), dtype=torch.long), max_new_tokens=32)[0].tolist()))"
   ]
  },
  {
   "cell_type": "markdown",
   "metadata": {},
   "source": [
    "## Training"
   ]
  },
  {
   "cell_type": "code",
   "execution_count": 75,
   "metadata": {},
   "outputs": [
    {
     "name": "stdout",
     "output_type": "stream",
     "text": [
      "2.636704444885254\n"
     ]
    }
   ],
   "source": [
    "optimizer = torch.optim.AdamW(bigram_model.parameters(), lr=1e-3)\n",
    "\n",
    "for steps in range(10000):\n",
    "    xb, yb = get_batch(\"train\")\n",
    "\n",
    "    # eval loss\n",
    "    logits, loss = bigram_model(xb, yb)\n",
    "    optimizer.zero_grad()\n",
    "    loss.backward()\n",
    "    optimizer.step()\n",
    "\n",
    "print(loss.item())"
   ]
  },
  {
   "cell_type": "code",
   "execution_count": 78,
   "metadata": {},
   "outputs": [
    {
     "name": "stdout",
     "output_type": "stream",
     "text": [
      "\n",
      "INNUGo aked-\n",
      "ANEEOnge ho igere y m sp'd uthe hantle pp es spe thom, tedopuschous, fo w HE:\n",
      "ANRERDWhed, pr g I t me t cal be g bevive Whise:\n",
      "Thoullf cunkir, elthryot;\n",
      "\n",
      "Ancan MAREDUTh lt,\n",
      "FFon whancher compeny'd:\n",
      "I lak: spe.\n",
      "We gur. CESTo tu ngesg stheeincerngr cown:\n",
      "\n",
      "\n",
      "Ye, akn m tawigmaprind? m.\n",
      "\n",
      "Wan \n"
     ]
    }
   ],
   "source": [
    "print(decode(bigram_model.generate(torch.zeros((1, 1), dtype=torch.long), max_new_tokens=300)[0].tolist()))\n",
    "# still not Shakespeare :D"
   ]
  },
  {
   "cell_type": "code",
   "execution_count": null,
   "metadata": {},
   "outputs": [],
   "source": []
  }
 ],
 "metadata": {
  "kernelspec": {
   "display_name": "Python 3",
   "language": "python",
   "name": "python3"
  },
  "language_info": {
   "codemirror_mode": {
    "name": "ipython",
    "version": 3
   },
   "file_extension": ".py",
   "mimetype": "text/x-python",
   "name": "python",
   "nbconvert_exporter": "python",
   "pygments_lexer": "ipython3",
   "version": "3.10.12"
  }
 },
 "nbformat": 4,
 "nbformat_minor": 2
}
