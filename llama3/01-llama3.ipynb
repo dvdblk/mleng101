{
 "cells": [
  {
   "cell_type": "markdown",
   "metadata": {},
   "source": [
    "## LLaMA3 almost from scratch\n",
    "\n",
    "inference only (next token prediction forward pass - no sampling)\n",
    "\n",
    "inspo from [here](https://github.com/naklecha/llama3-from-scratch/blob/main/llama3-from-scratch.ipynb) however quite a few changes:\n",
    "\n",
    "* path to model weights via env var\n",
    "* wip: supports hf weights\n",
    "* manual embeddings instead of `torch.nn.Embedding`\n",
    "* variable naming more in line with llama3 impl\n",
    "* works with arbitrary length of input prompt (og impl has hardcoded dim lengths sometimes)\n",
    "* model visualization via summary + torchview\n",
    "* wip: compute the rope embeddings without polar / complex magic\n",
    "* wip: compute the rope embeddings without \"Computational efficient realization of rotary matrix multiplication\" from paper and compare if impl is oke\n"
   ]
  },
  {
   "cell_type": "code",
   "execution_count": 1,
   "metadata": {},
   "outputs": [],
   "source": [
    "\"\"\"Load .env vars\"\"\"\n",
    "import os\n",
    "from pathlib import Path\n",
    "from dotenv import load_dotenv\n",
    "\n",
    "load_dotenv()\n",
    "\n",
    "# Warning: These weights are downloaded from official Meta\n",
    "# sources e.g. accepting TOS and using Meta's download.sh script.\n",
    "# (doesn't work with huggingface weights yet)\n",
    "LLAMA_WEIGHTS_PATH = Path(os.getenv(\"LLAMA_WEIGHTS_PATH\"))"
   ]
  },
  {
   "cell_type": "markdown",
   "metadata": {},
   "source": [
    "### Tokenizer\n",
    "\n",
    "[https://github.com/meta-llama/llama3/blob/main/llama/tokenizer.py](https://github.com/meta-llama/llama3/blob/main/llama/tokenizer.py). \n",
    "\n",
    "Code taken out of the official LLaMA3 `Tokenizer` class with changed path handling."
   ]
  },
  {
   "cell_type": "code",
   "execution_count": 2,
   "metadata": {},
   "outputs": [
    {
     "data": {
      "text/plain": [
       "'can i haz a 🦙'"
      ]
     },
     "execution_count": 2,
     "metadata": {},
     "output_type": "execute_result"
    }
   ],
   "source": [
    "import tiktoken\n",
    "from tiktoken.load import load_tiktoken_bpe\n",
    "\n",
    "LLAMA_TOKENIZER_PATH = LLAMA_WEIGHTS_PATH / \"tokenizer.model\"\n",
    "special_tokens = [\n",
    "    \"<|begin_of_text|>\",\n",
    "    \"<|end_of_text|>\",\n",
    "    \"<|reserved_special_token_0|>\",\n",
    "    \"<|reserved_special_token_1|>\",\n",
    "    \"<|reserved_special_token_2|>\",\n",
    "    \"<|reserved_special_token_3|>\",\n",
    "    \"<|start_header_id|>\",\n",
    "    \"<|end_header_id|>\",\n",
    "    \"<|reserved_special_token_4|>\",\n",
    "    \"<|eot_id|>\",  # end of turn\n",
    "] + [\n",
    "    f\"<|reserved_special_token_{i}|>\"\n",
    "    for i in range(5, 256 - 5)\n",
    "]\n",
    "mergeable_ranks = load_tiktoken_bpe(LLAMA_TOKENIZER_PATH.absolute().as_posix())\n",
    "tokenizer = tiktoken.Encoding(\n",
    "    name=LLAMA_TOKENIZER_PATH.name,\n",
    "    pat_str=r\"(?i:'s|'t|'re|'ve|'m|'ll|'d)|[^\\r\\n\\p{L}\\p{N}]?\\p{L}+|\\p{N}{1,3}| ?[^\\s\\p{L}\\p{N}]+[\\r\\n]*|\\s*[\\r\\n]+|\\s+(?!\\S)|\\s+\",\n",
    "    mergeable_ranks=mergeable_ranks,\n",
    "    special_tokens={token: len(mergeable_ranks) + i for i, token in enumerate(special_tokens)},\n",
    ")\n",
    "\n",
    "# sanity check\n",
    "tokenizer.decode(tokenizer.encode(\"can i haz a 🦙\"))"
   ]
  },
  {
   "cell_type": "markdown",
   "metadata": {},
   "source": [
    "### Load the model (weights + config)"
   ]
  },
  {
   "cell_type": "code",
   "execution_count": 3,
   "metadata": {},
   "outputs": [
    {
     "name": "stdout",
     "output_type": "stream",
     "text": [
      "{\n",
      "  \"dim\": 4096,\n",
      "  \"n_layers\": 32,\n",
      "  \"n_heads\": 32,\n",
      "  \"n_kv_heads\": 8,\n",
      "  \"vocab_size\": 128256,\n",
      "  \"multiple_of\": 1024,\n",
      "  \"ffn_dim_multiplier\": 1.3,\n",
      "  \"norm_eps\": 1e-05,\n",
      "  \"rope_theta\": 500000.0\n",
      "}\n"
     ]
    }
   ],
   "source": [
    "import json\n",
    "import torch\n",
    "\n",
    "with open(LLAMA_WEIGHTS_PATH / \"params.json\", \"r\") as f:\n",
    "    model_config = json.load(f)\n",
    "    print(json.dumps(model_config, indent=2))"
   ]
  },
  {
   "cell_type": "code",
   "execution_count": 4,
   "metadata": {},
   "outputs": [
    {
     "name": "stdout",
     "output_type": "stream",
     "text": [
      "[\n",
      "  \"tok_embeddings.weight\",\n",
      "  \"layers.0.attention.wq.weight\",\n",
      "  \"layers.0.attention.wk.weight\",\n",
      "  \"layers.0.attention.wv.weight\",\n",
      "  \"layers.0.attention.wo.weight\",\n",
      "  \"layers.0.feed_forward.w1.weight\",\n",
      "  \"layers.0.feed_forward.w3.weight\",\n",
      "  \"layers.0.feed_forward.w2.weight\",\n",
      "  \"layers.0.attention_norm.weight\",\n",
      "  \"layers.0.ffn_norm.weight\",\n",
      "  \"layers.1.attention.wq.weight\",\n",
      "  \"layers.1.attention.wk.weight\",\n",
      "  \"layers.1.attention.wv.weight\",\n",
      "  \"layers.1.attention.wo.weight\",\n",
      "  \"layers.1.feed_forward.w1.weight\",\n",
      "  \"layers.1.feed_forward.w3.weight\",\n",
      "  \"layers.1.feed_forward.w2.weight\",\n",
      "  \"layers.1.attention_norm.weight\",\n",
      "  \"layers.1.ffn_norm.weight\",\n",
      "  \"layers.2.attention.wq.weight\",\n",
      "  \"layers.2.attention.wk.weight\",\n",
      "  \"layers.2.attention.wv.weight\",\n",
      "  \"layers.2.attention.wo.weight\",\n",
      "  \"layers.2.feed_forward.w1.weight\",\n",
      "  \"layers.2.feed_forward.w3.weight\",\n",
      "  \"layers.2.feed_forward.w2.weight\",\n",
      "  \"layers.2.attention_norm.weight\",\n",
      "  \"layers.2.ffn_norm.weight\",\n",
      "  \"layers.3.attention.wq.weight\",\n",
      "  \"layers.3.attention.wk.weight\",\n",
      "  \"layers.3.attention.wv.weight\",\n",
      "  \"layers.3.attention.wo.weight\",\n",
      "  \"layers.3.feed_forward.w1.weight\",\n",
      "  \"layers.3.feed_forward.w3.weight\",\n",
      "  \"layers.3.feed_forward.w2.weight\",\n",
      "  \"layers.3.attention_norm.weight\",\n",
      "  \"layers.3.ffn_norm.weight\",\n",
      "  \"layers.4.attention.wq.weight\",\n",
      "  \"layers.4.attention.wk.weight\",\n",
      "  \"layers.4.attention.wv.weight\",\n",
      "  \"layers.4.attention.wo.weight\",\n",
      "  \"layers.4.feed_forward.w1.weight\",\n",
      "  \"layers.4.feed_forward.w3.weight\",\n",
      "  \"layers.4.feed_forward.w2.weight\",\n",
      "  \"layers.4.attention_norm.weight\",\n",
      "  \"layers.4.ffn_norm.weight\",\n",
      "  \"layers.5.attention.wq.weight\",\n",
      "  \"layers.5.attention.wk.weight\",\n",
      "  \"layers.5.attention.wv.weight\",\n",
      "  \"layers.5.attention.wo.weight\",\n",
      "  \"layers.5.feed_forward.w1.weight\",\n",
      "  \"layers.5.feed_forward.w3.weight\",\n",
      "  \"layers.5.feed_forward.w2.weight\",\n",
      "  \"layers.5.attention_norm.weight\",\n",
      "  \"layers.5.ffn_norm.weight\",\n",
      "  \"layers.6.attention.wq.weight\",\n",
      "  \"layers.6.attention.wk.weight\",\n",
      "  \"layers.6.attention.wv.weight\",\n",
      "  \"layers.6.attention.wo.weight\",\n",
      "  \"layers.6.feed_forward.w1.weight\",\n",
      "  \"layers.6.feed_forward.w3.weight\",\n",
      "  \"layers.6.feed_forward.w2.weight\",\n",
      "  \"layers.6.attention_norm.weight\",\n",
      "  \"layers.6.ffn_norm.weight\",\n",
      "  \"layers.7.attention.wq.weight\",\n",
      "  \"layers.7.attention.wk.weight\",\n",
      "  \"layers.7.attention.wv.weight\",\n",
      "  \"layers.7.attention.wo.weight\",\n",
      "  \"layers.7.feed_forward.w1.weight\",\n",
      "  \"layers.7.feed_forward.w3.weight\",\n",
      "  \"layers.7.feed_forward.w2.weight\",\n",
      "  \"layers.7.attention_norm.weight\",\n",
      "  \"layers.7.ffn_norm.weight\",\n",
      "  \"layers.8.attention.wq.weight\",\n",
      "  \"layers.8.attention.wk.weight\",\n",
      "  \"layers.8.attention.wv.weight\",\n",
      "  \"layers.8.attention.wo.weight\",\n",
      "  \"layers.8.feed_forward.w1.weight\",\n",
      "  \"layers.8.feed_forward.w3.weight\",\n",
      "  \"layers.8.feed_forward.w2.weight\",\n",
      "  \"layers.8.attention_norm.weight\",\n",
      "  \"layers.8.ffn_norm.weight\",\n",
      "  \"layers.9.attention.wq.weight\",\n",
      "  \"layers.9.attention.wk.weight\",\n",
      "  \"layers.9.attention.wv.weight\",\n",
      "  \"layers.9.attention.wo.weight\",\n",
      "  \"layers.9.feed_forward.w1.weight\",\n",
      "  \"layers.9.feed_forward.w3.weight\",\n",
      "  \"layers.9.feed_forward.w2.weight\",\n",
      "  \"layers.9.attention_norm.weight\",\n",
      "  \"layers.9.ffn_norm.weight\",\n",
      "  \"layers.10.attention.wq.weight\",\n",
      "  \"layers.10.attention.wk.weight\",\n",
      "  \"layers.10.attention.wv.weight\",\n",
      "  \"layers.10.attention.wo.weight\",\n",
      "  \"layers.10.feed_forward.w1.weight\",\n",
      "  \"layers.10.feed_forward.w3.weight\",\n",
      "  \"layers.10.feed_forward.w2.weight\",\n",
      "  \"layers.10.attention_norm.weight\",\n",
      "  \"layers.10.ffn_norm.weight\",\n",
      "  \"layers.11.attention.wq.weight\",\n",
      "  \"layers.11.attention.wk.weight\",\n",
      "  \"layers.11.attention.wv.weight\",\n",
      "  \"layers.11.attention.wo.weight\",\n",
      "  \"layers.11.feed_forward.w1.weight\",\n",
      "  \"layers.11.feed_forward.w3.weight\",\n",
      "  \"layers.11.feed_forward.w2.weight\",\n",
      "  \"layers.11.attention_norm.weight\",\n",
      "  \"layers.11.ffn_norm.weight\",\n",
      "  \"layers.12.attention.wq.weight\",\n",
      "  \"layers.12.attention.wk.weight\",\n",
      "  \"layers.12.attention.wv.weight\",\n",
      "  \"layers.12.attention.wo.weight\",\n",
      "  \"layers.12.feed_forward.w1.weight\",\n",
      "  \"layers.12.feed_forward.w3.weight\",\n",
      "  \"layers.12.feed_forward.w2.weight\",\n",
      "  \"layers.12.attention_norm.weight\",\n",
      "  \"layers.12.ffn_norm.weight\",\n",
      "  \"layers.13.attention.wq.weight\",\n",
      "  \"layers.13.attention.wk.weight\",\n",
      "  \"layers.13.attention.wv.weight\",\n",
      "  \"layers.13.attention.wo.weight\",\n",
      "  \"layers.13.feed_forward.w1.weight\",\n",
      "  \"layers.13.feed_forward.w3.weight\",\n",
      "  \"layers.13.feed_forward.w2.weight\",\n",
      "  \"layers.13.attention_norm.weight\",\n",
      "  \"layers.13.ffn_norm.weight\",\n",
      "  \"layers.14.attention.wq.weight\",\n",
      "  \"layers.14.attention.wk.weight\",\n",
      "  \"layers.14.attention.wv.weight\",\n",
      "  \"layers.14.attention.wo.weight\",\n",
      "  \"layers.14.feed_forward.w1.weight\",\n",
      "  \"layers.14.feed_forward.w3.weight\",\n",
      "  \"layers.14.feed_forward.w2.weight\",\n",
      "  \"layers.14.attention_norm.weight\",\n",
      "  \"layers.14.ffn_norm.weight\",\n",
      "  \"layers.15.attention.wq.weight\",\n",
      "  \"layers.15.attention.wk.weight\",\n",
      "  \"layers.15.attention.wv.weight\",\n",
      "  \"layers.15.attention.wo.weight\",\n",
      "  \"layers.15.feed_forward.w1.weight\",\n",
      "  \"layers.15.feed_forward.w3.weight\",\n",
      "  \"layers.15.feed_forward.w2.weight\",\n",
      "  \"layers.15.attention_norm.weight\",\n",
      "  \"layers.15.ffn_norm.weight\",\n",
      "  \"layers.16.attention.wq.weight\",\n",
      "  \"layers.16.attention.wk.weight\",\n",
      "  \"layers.16.attention.wv.weight\",\n",
      "  \"layers.16.attention.wo.weight\",\n",
      "  \"layers.16.feed_forward.w1.weight\",\n",
      "  \"layers.16.feed_forward.w3.weight\",\n",
      "  \"layers.16.feed_forward.w2.weight\",\n",
      "  \"layers.16.attention_norm.weight\",\n",
      "  \"layers.16.ffn_norm.weight\",\n",
      "  \"layers.17.attention.wq.weight\",\n",
      "  \"layers.17.attention.wk.weight\",\n",
      "  \"layers.17.attention.wv.weight\",\n",
      "  \"layers.17.attention.wo.weight\",\n",
      "  \"layers.17.feed_forward.w1.weight\",\n",
      "  \"layers.17.feed_forward.w3.weight\",\n",
      "  \"layers.17.feed_forward.w2.weight\",\n",
      "  \"layers.17.attention_norm.weight\",\n",
      "  \"layers.17.ffn_norm.weight\",\n",
      "  \"layers.18.attention.wq.weight\",\n",
      "  \"layers.18.attention.wk.weight\",\n",
      "  \"layers.18.attention.wv.weight\",\n",
      "  \"layers.18.attention.wo.weight\",\n",
      "  \"layers.18.feed_forward.w1.weight\",\n",
      "  \"layers.18.feed_forward.w3.weight\",\n",
      "  \"layers.18.feed_forward.w2.weight\",\n",
      "  \"layers.18.attention_norm.weight\",\n",
      "  \"layers.18.ffn_norm.weight\",\n",
      "  \"layers.19.attention.wq.weight\",\n",
      "  \"layers.19.attention.wk.weight\",\n",
      "  \"layers.19.attention.wv.weight\",\n",
      "  \"layers.19.attention.wo.weight\",\n",
      "  \"layers.19.feed_forward.w1.weight\",\n",
      "  \"layers.19.feed_forward.w3.weight\",\n",
      "  \"layers.19.feed_forward.w2.weight\",\n",
      "  \"layers.19.attention_norm.weight\",\n",
      "  \"layers.19.ffn_norm.weight\",\n",
      "  \"layers.20.attention.wq.weight\",\n",
      "  \"layers.20.attention.wk.weight\",\n",
      "  \"layers.20.attention.wv.weight\",\n",
      "  \"layers.20.attention.wo.weight\",\n",
      "  \"layers.20.feed_forward.w1.weight\",\n",
      "  \"layers.20.feed_forward.w3.weight\",\n",
      "  \"layers.20.feed_forward.w2.weight\",\n",
      "  \"layers.20.attention_norm.weight\",\n",
      "  \"layers.20.ffn_norm.weight\",\n",
      "  \"layers.21.attention.wq.weight\",\n",
      "  \"layers.21.attention.wk.weight\",\n",
      "  \"layers.21.attention.wv.weight\",\n",
      "  \"layers.21.attention.wo.weight\",\n",
      "  \"layers.21.feed_forward.w1.weight\",\n",
      "  \"layers.21.feed_forward.w3.weight\",\n",
      "  \"layers.21.feed_forward.w2.weight\",\n",
      "  \"layers.21.attention_norm.weight\",\n",
      "  \"layers.21.ffn_norm.weight\",\n",
      "  \"layers.22.attention.wq.weight\",\n",
      "  \"layers.22.attention.wk.weight\",\n",
      "  \"layers.22.attention.wv.weight\",\n",
      "  \"layers.22.attention.wo.weight\",\n",
      "  \"layers.22.feed_forward.w1.weight\",\n",
      "  \"layers.22.feed_forward.w3.weight\",\n",
      "  \"layers.22.feed_forward.w2.weight\",\n",
      "  \"layers.22.attention_norm.weight\",\n",
      "  \"layers.22.ffn_norm.weight\",\n",
      "  \"layers.23.attention.wq.weight\",\n",
      "  \"layers.23.attention.wk.weight\",\n",
      "  \"layers.23.attention.wv.weight\",\n",
      "  \"layers.23.attention.wo.weight\",\n",
      "  \"layers.23.feed_forward.w1.weight\",\n",
      "  \"layers.23.feed_forward.w3.weight\",\n",
      "  \"layers.23.feed_forward.w2.weight\",\n",
      "  \"layers.23.attention_norm.weight\",\n",
      "  \"layers.23.ffn_norm.weight\",\n",
      "  \"layers.24.attention.wq.weight\",\n",
      "  \"layers.24.attention.wk.weight\",\n",
      "  \"layers.24.attention.wv.weight\",\n",
      "  \"layers.24.attention.wo.weight\",\n",
      "  \"layers.24.feed_forward.w1.weight\",\n",
      "  \"layers.24.feed_forward.w3.weight\",\n",
      "  \"layers.24.feed_forward.w2.weight\",\n",
      "  \"layers.24.attention_norm.weight\",\n",
      "  \"layers.24.ffn_norm.weight\",\n",
      "  \"layers.25.attention.wq.weight\",\n",
      "  \"layers.25.attention.wk.weight\",\n",
      "  \"layers.25.attention.wv.weight\",\n",
      "  \"layers.25.attention.wo.weight\",\n",
      "  \"layers.25.feed_forward.w1.weight\",\n",
      "  \"layers.25.feed_forward.w3.weight\",\n",
      "  \"layers.25.feed_forward.w2.weight\",\n",
      "  \"layers.25.attention_norm.weight\",\n",
      "  \"layers.25.ffn_norm.weight\",\n",
      "  \"layers.26.attention.wq.weight\",\n",
      "  \"layers.26.attention.wk.weight\",\n",
      "  \"layers.26.attention.wv.weight\",\n",
      "  \"layers.26.attention.wo.weight\",\n",
      "  \"layers.26.feed_forward.w1.weight\",\n",
      "  \"layers.26.feed_forward.w3.weight\",\n",
      "  \"layers.26.feed_forward.w2.weight\",\n",
      "  \"layers.26.attention_norm.weight\",\n",
      "  \"layers.26.ffn_norm.weight\",\n",
      "  \"layers.27.attention.wq.weight\",\n",
      "  \"layers.27.attention.wk.weight\",\n",
      "  \"layers.27.attention.wv.weight\",\n",
      "  \"layers.27.attention.wo.weight\",\n",
      "  \"layers.27.feed_forward.w1.weight\",\n",
      "  \"layers.27.feed_forward.w3.weight\",\n",
      "  \"layers.27.feed_forward.w2.weight\",\n",
      "  \"layers.27.attention_norm.weight\",\n",
      "  \"layers.27.ffn_norm.weight\",\n",
      "  \"layers.28.attention.wq.weight\",\n",
      "  \"layers.28.attention.wk.weight\",\n",
      "  \"layers.28.attention.wv.weight\",\n",
      "  \"layers.28.attention.wo.weight\",\n",
      "  \"layers.28.feed_forward.w1.weight\",\n",
      "  \"layers.28.feed_forward.w3.weight\",\n",
      "  \"layers.28.feed_forward.w2.weight\",\n",
      "  \"layers.28.attention_norm.weight\",\n",
      "  \"layers.28.ffn_norm.weight\",\n",
      "  \"layers.29.attention.wq.weight\",\n",
      "  \"layers.29.attention.wk.weight\",\n",
      "  \"layers.29.attention.wv.weight\",\n",
      "  \"layers.29.attention.wo.weight\",\n",
      "  \"layers.29.feed_forward.w1.weight\",\n",
      "  \"layers.29.feed_forward.w3.weight\",\n",
      "  \"layers.29.feed_forward.w2.weight\",\n",
      "  \"layers.29.attention_norm.weight\",\n",
      "  \"layers.29.ffn_norm.weight\",\n",
      "  \"layers.30.attention.wq.weight\",\n",
      "  \"layers.30.attention.wk.weight\",\n",
      "  \"layers.30.attention.wv.weight\",\n",
      "  \"layers.30.attention.wo.weight\",\n",
      "  \"layers.30.feed_forward.w1.weight\",\n",
      "  \"layers.30.feed_forward.w3.weight\",\n",
      "  \"layers.30.feed_forward.w2.weight\",\n",
      "  \"layers.30.attention_norm.weight\",\n",
      "  \"layers.30.ffn_norm.weight\",\n",
      "  \"layers.31.attention.wq.weight\",\n",
      "  \"layers.31.attention.wk.weight\",\n",
      "  \"layers.31.attention.wv.weight\",\n",
      "  \"layers.31.attention.wo.weight\",\n",
      "  \"layers.31.feed_forward.w1.weight\",\n",
      "  \"layers.31.feed_forward.w3.weight\",\n",
      "  \"layers.31.feed_forward.w2.weight\",\n",
      "  \"layers.31.attention_norm.weight\",\n",
      "  \"layers.31.ffn_norm.weight\",\n",
      "  \"norm.weight\",\n",
      "  \"output.weight\"\n",
      "]\n"
     ]
    }
   ],
   "source": [
    "model = torch.load(LLAMA_WEIGHTS_PATH / \"consolidated.00.pth\")\n",
    "print(json.dumps(list(model.keys()), indent=2))"
   ]
  },
  {
   "cell_type": "markdown",
   "metadata": {},
   "source": [
    "### Prepare input prompt"
   ]
  },
  {
   "cell_type": "code",
   "execution_count": 5,
   "metadata": {},
   "outputs": [
    {
     "name": "stdout",
     "output_type": "stream",
     "text": [
      "[128000]\n",
      "[128000, 2822, 6784, 912]\n",
      "4\n"
     ]
    }
   ],
   "source": [
    "# one forward pass of the model (without sampling) will predict only the next token,\n",
    "# so the model should predict token id of 'snowing'\n",
    "input_prompt = \"The ground was covered in a blanket of white, so it must have been\"\n",
    "#input_prompt = \"the answer to the ultimate question of life, the universe, and everything is \"\n",
    "input_prompt = \"No pain no\"\n",
    "\n",
    "# need to manually add beginning of sentence token (128000)\n",
    "bos_id = tokenizer.encode(\"<|begin_of_text|>\", allowed_special=set(special_tokens))\n",
    "print(bos_id)\n",
    "\n",
    "# encode the full input prompt\n",
    "tokens = bos_id + tokenizer.encode(input_prompt)\n",
    "print(tokens)\n",
    "\n",
    "seq_len = len(tokens)\n",
    "print(seq_len)"
   ]
  },
  {
   "cell_type": "markdown",
   "metadata": {},
   "source": [
    "### OG llama3 visualization\n",
    "\n",
    "summary taken from [00-llama3-viz.ipynb](./00-llama3-viz.ipynb) (also check that notebook out for a full forward pass computation graph)\n",
    "\n",
    "(for input tokens of length 16)"
   ]
  },
  {
   "cell_type": "markdown",
   "metadata": {},
   "source": [
    "<pre>\n",
    "==========================================================================================\n",
    "Layer (type:depth-idx)                   Output Shape              Param #\n",
    "==========================================================================================\n",
    "Transformer                              [1, 16, 128256]           --\n",
    "├─Embedding: 1-1                         [1, 16, 4096]             525,336,576\n",
    "├─ModuleList: 1-2                        --                        --\n",
    "│    └─TransformerBlock: 2-1             [1, 16, 4096]             --\n",
    "│    │    └─RMSNorm: 3-1                 [1, 16, 4096]             4,096\n",
    "│    │    └─Attention: 3-2               [1, 16, 4096]             41,943,040\n",
    "│    │    └─RMSNorm: 3-3                 [1, 16, 4096]             4,096\n",
    "│    │    └─FeedForward: 3-4             [1, 16, 4096]             176,160,768\n",
    "│    └─TransformerBlock: 2-2             [1, 16, 4096]             --\n",
    "│    │    └─RMSNorm: 3-5                 [1, 16, 4096]             4,096\n",
    "│    │    └─Attention: 3-6               [1, 16, 4096]             41,943,040\n",
    "│    │    └─RMSNorm: 3-7                 [1, 16, 4096]             4,096\n",
    "│    │    └─FeedForward: 3-8             [1, 16, 4096]             176,160,768\n",
    "│    └─TransformerBlock: 2-3             [1, 16, 4096]             --\n",
    "│    │    └─RMSNorm: 3-9                 [1, 16, 4096]             4,096\n",
    "│    │    └─Attention: 3-10              [1, 16, 4096]             41,943,040\n",
    "│    │    └─RMSNorm: 3-11                [1, 16, 4096]             4,096\n",
    "│    │    └─FeedForward: 3-12            [1, 16, 4096]             176,160,768\n",
    "│    └─TransformerBlock: 2-4             [1, 16, 4096]             --\n",
    "│    │    └─RMSNorm: 3-13                [1, 16, 4096]             4,096\n",
    "│    │    └─Attention: 3-14              [1, 16, 4096]             41,943,040\n",
    "│    │    └─RMSNorm: 3-15                [1, 16, 4096]             4,096\n",
    "│    │    └─FeedForward: 3-16            [1, 16, 4096]             176,160,768\n",
    "│    └─TransformerBlock: 2-5             [1, 16, 4096]             --\n",
    "│    │    └─RMSNorm: 3-17                [1, 16, 4096]             4,096\n",
    "│    │    └─Attention: 3-18              [1, 16, 4096]             41,943,040\n",
    "│    │    └─RMSNorm: 3-19                [1, 16, 4096]             4,096\n",
    "│    │    └─FeedForward: 3-20            [1, 16, 4096]             176,160,768\n",
    "│    └─TransformerBlock: 2-6             [1, 16, 4096]             --\n",
    "│    │    └─RMSNorm: 3-21                [1, 16, 4096]             4,096\n",
    "│    │    └─Attention: 3-22              [1, 16, 4096]             41,943,040\n",
    "│    │    └─RMSNorm: 3-23                [1, 16, 4096]             4,096\n",
    "│    │    └─FeedForward: 3-24            [1, 16, 4096]             176,160,768\n",
    "│    └─TransformerBlock: 2-7             [1, 16, 4096]             --\n",
    "│    │    └─RMSNorm: 3-25                [1, 16, 4096]             4,096\n",
    "│    │    └─Attention: 3-26              [1, 16, 4096]             41,943,040\n",
    "│    │    └─RMSNorm: 3-27                [1, 16, 4096]             4,096\n",
    "│    │    └─FeedForward: 3-28            [1, 16, 4096]             176,160,768\n",
    "│    └─TransformerBlock: 2-8             [1, 16, 4096]             --\n",
    "│    │    └─RMSNorm: 3-29                [1, 16, 4096]             4,096\n",
    "│    │    └─Attention: 3-30              [1, 16, 4096]             41,943,040\n",
    "│    │    └─RMSNorm: 3-31                [1, 16, 4096]             4,096\n",
    "│    │    └─FeedForward: 3-32            [1, 16, 4096]             176,160,768\n",
    "│    └─TransformerBlock: 2-9             [1, 16, 4096]             --\n",
    "│    │    └─RMSNorm: 3-33                [1, 16, 4096]             4,096\n",
    "│    │    └─Attention: 3-34              [1, 16, 4096]             41,943,040\n",
    "│    │    └─RMSNorm: 3-35                [1, 16, 4096]             4,096\n",
    "│    │    └─FeedForward: 3-36            [1, 16, 4096]             176,160,768\n",
    "│    └─TransformerBlock: 2-10            [1, 16, 4096]             --\n",
    "│    │    └─RMSNorm: 3-37                [1, 16, 4096]             4,096\n",
    "│    │    └─Attention: 3-38              [1, 16, 4096]             41,943,040\n",
    "│    │    └─RMSNorm: 3-39                [1, 16, 4096]             4,096\n",
    "│    │    └─FeedForward: 3-40            [1, 16, 4096]             176,160,768\n",
    "│    └─TransformerBlock: 2-11            [1, 16, 4096]             --\n",
    "│    │    └─RMSNorm: 3-41                [1, 16, 4096]             4,096\n",
    "│    │    └─Attention: 3-42              [1, 16, 4096]             41,943,040\n",
    "│    │    └─RMSNorm: 3-43                [1, 16, 4096]             4,096\n",
    "│    │    └─FeedForward: 3-44            [1, 16, 4096]             176,160,768\n",
    "│    └─TransformerBlock: 2-12            [1, 16, 4096]             --\n",
    "│    │    └─RMSNorm: 3-45                [1, 16, 4096]             4,096\n",
    "│    │    └─Attention: 3-46              [1, 16, 4096]             41,943,040\n",
    "│    │    └─RMSNorm: 3-47                [1, 16, 4096]             4,096\n",
    "│    │    └─FeedForward: 3-48            [1, 16, 4096]             176,160,768\n",
    "│    └─TransformerBlock: 2-13            [1, 16, 4096]             --\n",
    "│    │    └─RMSNorm: 3-49                [1, 16, 4096]             4,096\n",
    "│    │    └─Attention: 3-50              [1, 16, 4096]             41,943,040\n",
    "│    │    └─RMSNorm: 3-51                [1, 16, 4096]             4,096\n",
    "│    │    └─FeedForward: 3-52            [1, 16, 4096]             176,160,768\n",
    "│    └─TransformerBlock: 2-14            [1, 16, 4096]             --\n",
    "│    │    └─RMSNorm: 3-53                [1, 16, 4096]             4,096\n",
    "│    │    └─Attention: 3-54              [1, 16, 4096]             41,943,040\n",
    "│    │    └─RMSNorm: 3-55                [1, 16, 4096]             4,096\n",
    "│    │    └─FeedForward: 3-56            [1, 16, 4096]             176,160,768\n",
    "│    └─TransformerBlock: 2-15            [1, 16, 4096]             --\n",
    "│    │    └─RMSNorm: 3-57                [1, 16, 4096]             4,096\n",
    "│    │    └─Attention: 3-58              [1, 16, 4096]             41,943,040\n",
    "│    │    └─RMSNorm: 3-59                [1, 16, 4096]             4,096\n",
    "│    │    └─FeedForward: 3-60            [1, 16, 4096]             176,160,768\n",
    "│    └─TransformerBlock: 2-16            [1, 16, 4096]             --\n",
    "│    │    └─RMSNorm: 3-61                [1, 16, 4096]             4,096\n",
    "│    │    └─Attention: 3-62              [1, 16, 4096]             41,943,040\n",
    "│    │    └─RMSNorm: 3-63                [1, 16, 4096]             4,096\n",
    "│    │    └─FeedForward: 3-64            [1, 16, 4096]             176,160,768\n",
    "│    └─TransformerBlock: 2-17            [1, 16, 4096]             --\n",
    "│    │    └─RMSNorm: 3-65                [1, 16, 4096]             4,096\n",
    "│    │    └─Attention: 3-66              [1, 16, 4096]             41,943,040\n",
    "│    │    └─RMSNorm: 3-67                [1, 16, 4096]             4,096\n",
    "│    │    └─FeedForward: 3-68            [1, 16, 4096]             176,160,768\n",
    "│    └─TransformerBlock: 2-18            [1, 16, 4096]             --\n",
    "│    │    └─RMSNorm: 3-69                [1, 16, 4096]             4,096\n",
    "│    │    └─Attention: 3-70              [1, 16, 4096]             41,943,040\n",
    "│    │    └─RMSNorm: 3-71                [1, 16, 4096]             4,096\n",
    "│    │    └─FeedForward: 3-72            [1, 16, 4096]             176,160,768\n",
    "│    └─TransformerBlock: 2-19            [1, 16, 4096]             --\n",
    "│    │    └─RMSNorm: 3-73                [1, 16, 4096]             4,096\n",
    "│    │    └─Attention: 3-74              [1, 16, 4096]             41,943,040\n",
    "│    │    └─RMSNorm: 3-75                [1, 16, 4096]             4,096\n",
    "│    │    └─FeedForward: 3-76            [1, 16, 4096]             176,160,768\n",
    "│    └─TransformerBlock: 2-20            [1, 16, 4096]             --\n",
    "│    │    └─RMSNorm: 3-77                [1, 16, 4096]             4,096\n",
    "│    │    └─Attention: 3-78              [1, 16, 4096]             41,943,040\n",
    "│    │    └─RMSNorm: 3-79                [1, 16, 4096]             4,096\n",
    "│    │    └─FeedForward: 3-80            [1, 16, 4096]             176,160,768\n",
    "│    └─TransformerBlock: 2-21            [1, 16, 4096]             --\n",
    "│    │    └─RMSNorm: 3-81                [1, 16, 4096]             4,096\n",
    "│    │    └─Attention: 3-82              [1, 16, 4096]             41,943,040\n",
    "│    │    └─RMSNorm: 3-83                [1, 16, 4096]             4,096\n",
    "│    │    └─FeedForward: 3-84            [1, 16, 4096]             176,160,768\n",
    "│    └─TransformerBlock: 2-22            [1, 16, 4096]             --\n",
    "│    │    └─RMSNorm: 3-85                [1, 16, 4096]             4,096\n",
    "│    │    └─Attention: 3-86              [1, 16, 4096]             41,943,040\n",
    "│    │    └─RMSNorm: 3-87                [1, 16, 4096]             4,096\n",
    "│    │    └─FeedForward: 3-88            [1, 16, 4096]             176,160,768\n",
    "│    └─TransformerBlock: 2-23            [1, 16, 4096]             --\n",
    "│    │    └─RMSNorm: 3-89                [1, 16, 4096]             4,096\n",
    "│    │    └─Attention: 3-90              [1, 16, 4096]             41,943,040\n",
    "│    │    └─RMSNorm: 3-91                [1, 16, 4096]             4,096\n",
    "│    │    └─FeedForward: 3-92            [1, 16, 4096]             176,160,768\n",
    "│    └─TransformerBlock: 2-24            [1, 16, 4096]             --\n",
    "│    │    └─RMSNorm: 3-93                [1, 16, 4096]             4,096\n",
    "│    │    └─Attention: 3-94              [1, 16, 4096]             41,943,040\n",
    "│    │    └─RMSNorm: 3-95                [1, 16, 4096]             4,096\n",
    "│    │    └─FeedForward: 3-96            [1, 16, 4096]             176,160,768\n",
    "│    └─TransformerBlock: 2-25            [1, 16, 4096]             --\n",
    "│    │    └─RMSNorm: 3-97                [1, 16, 4096]             4,096\n",
    "│    │    └─Attention: 3-98              [1, 16, 4096]             41,943,040\n",
    "│    │    └─RMSNorm: 3-99                [1, 16, 4096]             4,096\n",
    "│    │    └─FeedForward: 3-100           [1, 16, 4096]             176,160,768\n",
    "│    └─TransformerBlock: 2-26            [1, 16, 4096]             --\n",
    "│    │    └─RMSNorm: 3-101               [1, 16, 4096]             4,096\n",
    "│    │    └─Attention: 3-102             [1, 16, 4096]             41,943,040\n",
    "│    │    └─RMSNorm: 3-103               [1, 16, 4096]             4,096\n",
    "│    │    └─FeedForward: 3-104           [1, 16, 4096]             176,160,768\n",
    "│    └─TransformerBlock: 2-27            [1, 16, 4096]             --\n",
    "│    │    └─RMSNorm: 3-105               [1, 16, 4096]             4,096\n",
    "│    │    └─Attention: 3-106             [1, 16, 4096]             41,943,040\n",
    "│    │    └─RMSNorm: 3-107               [1, 16, 4096]             4,096\n",
    "│    │    └─FeedForward: 3-108           [1, 16, 4096]             176,160,768\n",
    "│    └─TransformerBlock: 2-28            [1, 16, 4096]             --\n",
    "│    │    └─RMSNorm: 3-109               [1, 16, 4096]             4,096\n",
    "│    │    └─Attention: 3-110             [1, 16, 4096]             41,943,040\n",
    "│    │    └─RMSNorm: 3-111               [1, 16, 4096]             4,096\n",
    "│    │    └─FeedForward: 3-112           [1, 16, 4096]             176,160,768\n",
    "│    └─TransformerBlock: 2-29            [1, 16, 4096]             --\n",
    "│    │    └─RMSNorm: 3-113               [1, 16, 4096]             4,096\n",
    "│    │    └─Attention: 3-114             [1, 16, 4096]             41,943,040\n",
    "│    │    └─RMSNorm: 3-115               [1, 16, 4096]             4,096\n",
    "│    │    └─FeedForward: 3-116           [1, 16, 4096]             176,160,768\n",
    "│    └─TransformerBlock: 2-30            [1, 16, 4096]             --\n",
    "│    │    └─RMSNorm: 3-117               [1, 16, 4096]             4,096\n",
    "│    │    └─Attention: 3-118             [1, 16, 4096]             41,943,040\n",
    "│    │    └─RMSNorm: 3-119               [1, 16, 4096]             4,096\n",
    "│    │    └─FeedForward: 3-120           [1, 16, 4096]             176,160,768\n",
    "│    └─TransformerBlock: 2-31            [1, 16, 4096]             --\n",
    "│    │    └─RMSNorm: 3-121               [1, 16, 4096]             4,096\n",
    "│    │    └─Attention: 3-122             [1, 16, 4096]             41,943,040\n",
    "│    │    └─RMSNorm: 3-123               [1, 16, 4096]             4,096\n",
    "│    │    └─FeedForward: 3-124           [1, 16, 4096]             176,160,768\n",
    "│    └─TransformerBlock: 2-32            [1, 16, 4096]             --\n",
    "│    │    └─RMSNorm: 3-125               [1, 16, 4096]             4,096\n",
    "│    │    └─Attention: 3-126             [1, 16, 4096]             41,943,040\n",
    "│    │    └─RMSNorm: 3-127               [1, 16, 4096]             4,096\n",
    "│    │    └─FeedForward: 3-128           [1, 16, 4096]             176,160,768\n",
    "├─RMSNorm: 1-3                           [1, 16, 4096]             4,096\n",
    "├─Linear: 1-4                            [1, 16, 128256]           525,336,576\n",
    "==========================================================================================\n",
    "Total params: 8,030,261,248\n",
    "Trainable params: 8,030,261,248\n",
    "Non-trainable params: 0\n",
    "Total mult-adds (Units.GIGABYTES): 8.03\n",
    "==========================================================================================\n",
    "Input size (MB): 0.00\n",
    "Forward/backward pass size (MB): 113.59\n",
    "Params size (MB): 16060.52\n",
    "Estimated Total Size (MB): 16174.11\n",
    "==========================================================================================\n",
    "</pre>"
   ]
  },
  {
   "cell_type": "markdown",
   "metadata": {},
   "source": [
    "### Embeddings"
   ]
  },
  {
   "cell_type": "code",
   "execution_count": 6,
   "metadata": {},
   "outputs": [
    {
     "name": "stdout",
     "output_type": "stream",
     "text": [
      "torch.Size([4]) torch.Size([128256, 4096])\n",
      "Resulting shape:  torch.Size([4, 4096])\n"
     ]
    }
   ],
   "source": [
    "import torch.nn as nn\n",
    "\n",
    "# can add .unsqueeze(0) to input_tensor to make it batched...\n",
    "input_tensor = torch.tensor(tokens, dtype=torch.long)\n",
    "token_embeddings_weights = model[\"tok_embeddings.weight\"]\n",
    "print(input_tensor.shape, token_embeddings_weights.shape)\n",
    "\n",
    "# embedding layer manually (matmul . one-hot)\n",
    "one_hot = nn.functional.one_hot(input_tensor, num_classes=model_config[\"vocab_size\"]).bfloat16()\n",
    "token_embeddings = torch.matmul(one_hot, model[\"tok_embeddings.weight\"])\n",
    "\n",
    "print(\"Resulting shape: \", token_embeddings.shape)"
   ]
  },
  {
   "cell_type": "markdown",
   "metadata": {},
   "source": [
    "### RMSNorm\n",
    "\n",
    "Zhang, B., & Sennrich, R. (2019). [Root Mean Square Layer Normalization.](https://arxiv.org/abs/1910.07467) ArXiv, abs/1910.07467."
   ]
  },
  {
   "cell_type": "code",
   "execution_count": 7,
   "metadata": {},
   "outputs": [],
   "source": [
    "def rms_norm(tensor, g, norm_eps):\n",
    "    return tensor * torch.rsqrt(tensor.pow(2).mean(-1, keepdim=True) + norm_eps) * g\n",
    "\n",
    "token_embeddings_normalized = rms_norm(token_embeddings, model[\"layers.0.attention_norm.weight\"], model_config[\"norm_eps\"])\n",
    "\n",
    "assert token_embeddings_normalized.shape == token_embeddings.shape"
   ]
  },
  {
   "cell_type": "markdown",
   "metadata": {},
   "source": [
    "### Transformer layer"
   ]
  },
  {
   "cell_type": "code",
   "execution_count": 8,
   "metadata": {},
   "outputs": [
    {
     "name": "stdout",
     "output_type": "stream",
     "text": [
      "torch.Size([4096, 4096]) torch.Size([1024, 4096]) torch.Size([1024, 4096]) torch.Size([4096, 4096])\n"
     ]
    }
   ],
   "source": [
    "print(\n",
    "    model[\"layers.0.attention.wq.weight\"].shape,\n",
    "    model[\"layers.0.attention.wk.weight\"].shape,\n",
    "    model[\"layers.0.attention.wv.weight\"].shape,\n",
    "    model[\"layers.0.attention.wo.weight\"].shape\n",
    ")"
   ]
  },
  {
   "cell_type": "markdown",
   "metadata": {},
   "source": [
    "the attention weights are bundled together along the head dimension [4096, 4096], need to separate them out\n",
    "\n",
    "into `n_heads=32` heads ([32, 128, 4096])"
   ]
  },
  {
   "cell_type": "code",
   "execution_count": 9,
   "metadata": {},
   "outputs": [
    {
     "data": {
      "text/plain": [
       "torch.Size([32, 128, 4096])"
      ]
     },
     "execution_count": 9,
     "metadata": {},
     "output_type": "execute_result"
    }
   ],
   "source": [
    "q_layer0 = model[\"layers.0.attention.wq.weight\"]\n",
    "head_dim = q_layer0.shape[0] // model_config[\"n_heads\"]\n",
    "q_layer0 = q_layer0.view(model_config[\"n_heads\"], head_dim, model_config[\"dim\"])\n",
    "q_layer0.shape"
   ]
  },
  {
   "cell_type": "markdown",
   "metadata": {},
   "source": [
    "each head is now a query weight matrix i.e. $W_0^Q$"
   ]
  },
  {
   "cell_type": "code",
   "execution_count": 10,
   "metadata": {},
   "outputs": [
    {
     "data": {
      "text/plain": [
       "torch.Size([128, 4096])"
      ]
     },
     "execution_count": 10,
     "metadata": {},
     "output_type": "execute_result"
    }
   ],
   "source": [
    "q_layer0_head0 = q_layer0[0]\n",
    "q_layer0_head0.shape"
   ]
  },
  {
   "cell_type": "markdown",
   "metadata": {},
   "source": [
    "#### Query per token\n",
    "\n",
    "16 queries (one per token) of length 128"
   ]
  },
  {
   "cell_type": "code",
   "execution_count": 11,
   "metadata": {},
   "outputs": [
    {
     "data": {
      "text/plain": [
       "torch.Size([4, 128])"
      ]
     },
     "execution_count": 11,
     "metadata": {},
     "output_type": "execute_result"
    }
   ],
   "source": [
    "q_layer0_head0_per_token = torch.matmul(token_embeddings_normalized, q_layer0_head0.T)\n",
    "q_layer0_head0_per_token.shape"
   ]
  },
  {
   "cell_type": "markdown",
   "metadata": {},
   "source": [
    "#### Positional encoding (RoPE)\n",
    "\n",
    "Implemented in:\n",
    "* [llama3/llama/model.py (L49-75)](https://github.com/meta-llama/llama3/blob/bf8d18cd087a4a0b3f61075b7de0b86cf6c70697/llama/model.py#L49-L75)"
   ]
  },
  {
   "cell_type": "code",
   "execution_count": 12,
   "metadata": {},
   "outputs": [
    {
     "data": {
      "text/plain": [
       "torch.Size([4, 64, 2])"
      ]
     },
     "execution_count": 12,
     "metadata": {},
     "output_type": "execute_result"
    }
   ],
   "source": [
    "q_layer0_head0_per_token_pairs = q_layer0_head0_per_token.view(q_layer0_head0_per_token.shape[0], -1, 2)\n",
    "q_layer0_head0_per_token_pairs.shape"
   ]
  },
  {
   "cell_type": "code",
   "execution_count": 13,
   "metadata": {},
   "outputs": [
    {
     "name": "stdout",
     "output_type": "stream",
     "text": [
      "tensor([0.0000, 0.0156, 0.0312, 0.0469, 0.0625, 0.0781, 0.0938, 0.1094, 0.1250,\n",
      "        0.1406, 0.1562, 0.1719, 0.1875, 0.2031, 0.2188, 0.2344, 0.2500, 0.2656,\n",
      "        0.2812, 0.2969, 0.3125, 0.3281, 0.3438, 0.3594, 0.3750, 0.3906, 0.4062,\n",
      "        0.4219, 0.4375, 0.4531, 0.4688, 0.4844, 0.5000, 0.5156, 0.5312, 0.5469,\n",
      "        0.5625, 0.5781, 0.5938, 0.6094, 0.6250, 0.6406, 0.6562, 0.6719, 0.6875,\n",
      "        0.7031, 0.7188, 0.7344, 0.7500, 0.7656, 0.7812, 0.7969, 0.8125, 0.8281,\n",
      "        0.8438, 0.8594, 0.8750, 0.8906, 0.9062, 0.9219, 0.9375, 0.9531, 0.9688,\n",
      "        0.9844])\n",
      "torch.Size([64])\n"
     ]
    }
   ],
   "source": [
    "# dimension of size head_dim // 2 because we created pairs\n",
    "dim = head_dim // 2\n",
    "zero_to_one_split_into_half_dim_parts = torch.linspace(0, (dim - 1) / dim, dim)\n",
    "print(zero_to_one_split_into_half_dim_parts)\n",
    "\n",
    "freqs = 1.0 / (model_config[\"rope_theta\"] ** zero_to_one_split_into_half_dim_parts)\n",
    "print(freqs.shape)"
   ]
  },
  {
   "cell_type": "code",
   "execution_count": 14,
   "metadata": {},
   "outputs": [
    {
     "name": "stdout",
     "output_type": "stream",
     "text": [
      "torch.Size([4, 64])\n"
     ]
    },
    {
     "data": {
      "image/png": "[encoded data removed]",
      "text/plain": [
       "<Figure size 640x480 with 1 Axes>"
      ]
     },
     "metadata": {},
     "output_type": "display_data"
    }
   ],
   "source": [
    "import matplotlib.pyplot as plt\n",
    "\n",
    "freqs_for_each_token = torch.outer(torch.arange(seq_len), freqs)\n",
    "freqs_cis = torch.polar(torch.ones_like(freqs_for_each_token), freqs_for_each_token)\n",
    "print(freqs_cis.shape)\n",
    "\n",
    "# viewing tjhe third row of freqs_cis\n",
    "value = freqs_cis[1]\n",
    "plt.figure()\n",
    "for i, element in enumerate(value[:seq_len]):\n",
    "    plt.plot([0, element.real], [0, element.imag], color='blue', linewidth=1, label=f\"Index: {i}\")\n",
    "    plt.annotate(f\"{i}\", xy=(element.real, element.imag), color='red')\n",
    "plt.xlabel('Real')\n",
    "plt.ylabel('Imaginary')\n",
    "plt.title('Plot of one row of freqs_cis')\n",
    "plt.show()"
   ]
  },
  {
   "cell_type": "markdown",
   "metadata": {},
   "source": [
    "update query to complex numbers so that we can matmul with `freqs_cis`"
   ]
  },
  {
   "cell_type": "code",
   "execution_count": 15,
   "metadata": {},
   "outputs": [
    {
     "data": {
      "text/plain": [
       "torch.Size([4, 64])"
      ]
     },
     "execution_count": 15,
     "metadata": {},
     "output_type": "execute_result"
    }
   ],
   "source": [
    "q_layer0_head0_per_token_pairs_complex = torch.view_as_complex(q_layer0_head0_per_token_pairs.float())\n",
    "q_layer0_head0_per_token_pairs_complex.shape"
   ]
  },
  {
   "cell_type": "code",
   "execution_count": 16,
   "metadata": {},
   "outputs": [
    {
     "data": {
      "text/plain": [
       "torch.Size([4, 64])"
      ]
     },
     "execution_count": 16,
     "metadata": {},
     "output_type": "execute_result"
    }
   ],
   "source": [
    "q_layer0_head0_per_token_pairs_complex_rotated = q_layer0_head0_per_token_pairs_complex * freqs_cis\n",
    "q_layer0_head0_per_token_pairs_complex_rotated.shape"
   ]
  },
  {
   "cell_type": "code",
   "execution_count": 17,
   "metadata": {},
   "outputs": [
    {
     "data": {
      "text/plain": [
       "torch.Size([4, 64, 2])"
      ]
     },
     "execution_count": 17,
     "metadata": {},
     "output_type": "execute_result"
    }
   ],
   "source": [
    "q_layer0_head0_per_token_pairs_rotated = torch.view_as_real(q_layer0_head0_per_token_pairs_complex_rotated)\n",
    "q_layer0_head0_per_token_pairs_rotated.shape"
   ]
  },
  {
   "cell_type": "markdown",
   "metadata": {},
   "source": [
    "rotated pairs are now merged (rope applied on the original **query** vector)"
   ]
  },
  {
   "cell_type": "code",
   "execution_count": 18,
   "metadata": {},
   "outputs": [
    {
     "data": {
      "text/plain": [
       "torch.Size([4, 128])"
      ]
     },
     "execution_count": 18,
     "metadata": {},
     "output_type": "execute_result"
    }
   ],
   "source": [
    "q_layer0_head0_per_token_rotated = q_layer0_head0_per_token_pairs_rotated.view(q_layer0_head0_per_token.shape)\n",
    "q_layer0_head0_per_token_rotated.shape"
   ]
  },
  {
   "cell_type": "markdown",
   "metadata": {},
   "source": [
    "need to do the same for **keys**"
   ]
  },
  {
   "cell_type": "code",
   "execution_count": 19,
   "metadata": {},
   "outputs": [
    {
     "data": {
      "text/plain": [
       "torch.Size([8, 128, 4096])"
      ]
     },
     "execution_count": 19,
     "metadata": {},
     "output_type": "execute_result"
    }
   ],
   "source": [
    "k_layer0 = model[\"layers.0.attention.wk.weight\"]\n",
    "kv_dim = k_layer0.shape[0] // model_config[\"n_kv_heads\"]\n",
    "k_layer0 = k_layer0.view(model_config[\"n_kv_heads\"], kv_dim, model_config[\"dim\"])\n",
    "k_layer0.shape"
   ]
  },
  {
   "cell_type": "code",
   "execution_count": 20,
   "metadata": {},
   "outputs": [
    {
     "data": {
      "text/plain": [
       "torch.Size([128, 4096])"
      ]
     },
     "execution_count": 20,
     "metadata": {},
     "output_type": "execute_result"
    }
   ],
   "source": [
    "k_layer0_head0 = k_layer0[0]\n",
    "k_layer0_head0.shape"
   ]
  },
  {
   "cell_type": "code",
   "execution_count": 21,
   "metadata": {},
   "outputs": [
    {
     "data": {
      "text/plain": [
       "torch.Size([4, 128])"
      ]
     },
     "execution_count": 21,
     "metadata": {},
     "output_type": "execute_result"
    }
   ],
   "source": [
    "k_layer0_head0_per_token = torch.matmul(token_embeddings_normalized, k_layer0_head0.T)\n",
    "k_layer0_head0_per_token.shape"
   ]
  },
  {
   "cell_type": "code",
   "execution_count": 22,
   "metadata": {},
   "outputs": [
    {
     "data": {
      "text/plain": [
       "torch.Size([4, 64, 2])"
      ]
     },
     "execution_count": 22,
     "metadata": {},
     "output_type": "execute_result"
    }
   ],
   "source": [
    "k_layer0_head0_per_token_pairs = k_layer0_head0_per_token.view(k_layer0_head0_per_token.shape[0], -1, 2)\n",
    "k_layer0_head0_per_token_pairs.shape"
   ]
  },
  {
   "cell_type": "code",
   "execution_count": 23,
   "metadata": {},
   "outputs": [
    {
     "data": {
      "text/plain": [
       "torch.Size([4, 64])"
      ]
     },
     "execution_count": 23,
     "metadata": {},
     "output_type": "execute_result"
    }
   ],
   "source": [
    "k_layer0_head0_per_token_pairs_complex = torch.view_as_complex(k_layer0_head0_per_token_pairs.float())\n",
    "k_layer0_head0_per_token_pairs_complex.shape"
   ]
  },
  {
   "cell_type": "code",
   "execution_count": 24,
   "metadata": {},
   "outputs": [
    {
     "data": {
      "text/plain": [
       "torch.Size([4, 64])"
      ]
     },
     "execution_count": 24,
     "metadata": {},
     "output_type": "execute_result"
    }
   ],
   "source": [
    "k_layer0_head0_per_token_pairs_complex_rotated = k_layer0_head0_per_token_pairs_complex * freqs_cis\n",
    "k_layer0_head0_per_token_pairs_complex_rotated.shape"
   ]
  },
  {
   "cell_type": "code",
   "execution_count": 25,
   "metadata": {},
   "outputs": [
    {
     "data": {
      "text/plain": [
       "torch.Size([4, 64, 2])"
      ]
     },
     "execution_count": 25,
     "metadata": {},
     "output_type": "execute_result"
    }
   ],
   "source": [
    "k_layer0_head0_per_token_pairs_rotated = torch.view_as_real(k_layer0_head0_per_token_pairs_complex_rotated)\n",
    "k_layer0_head0_per_token_pairs_rotated.shape"
   ]
  },
  {
   "cell_type": "code",
   "execution_count": 26,
   "metadata": {},
   "outputs": [
    {
     "data": {
      "text/plain": [
       "torch.Size([4, 128])"
      ]
     },
     "execution_count": 26,
     "metadata": {},
     "output_type": "execute_result"
    }
   ],
   "source": [
    "k_layer0_head0_per_token_rotated = k_layer0_head0_per_token_pairs_rotated.view(k_layer0_head0_per_token.shape)\n",
    "k_layer0_head0_per_token_rotated.shape"
   ]
  },
  {
   "cell_type": "markdown",
   "metadata": {},
   "source": [
    "have: queries $Q$ and keys $K$ in shape [16, 128] in the first layer, 0th head\n",
    "\n",
    "we will use it to compute **masked self-attention**:\n",
    "\n",
    "$$Z = \\text{softmax}(\\frac{Q \\cdot K^T}{\\sqrt{d_k}}) \\cdot V$$\n",
    "\n",
    "but first, the unmasked self-attention matrix $Q \\cdot K^T$ of shape [16, 16] which is [input_size, input_size]:"
   ]
  },
  {
   "cell_type": "code",
   "execution_count": 27,
   "metadata": {},
   "outputs": [
    {
     "data": {
      "text/plain": [
       "torch.Size([4, 4])"
      ]
     },
     "execution_count": 27,
     "metadata": {},
     "output_type": "execute_result"
    }
   ],
   "source": [
    "qk_layer0_head0_per_token = torch.matmul(q_layer0_head0_per_token_rotated, k_layer0_head0_per_token_rotated.T)\n",
    "qk_layer0_head0_per_token.shape"
   ]
  },
  {
   "cell_type": "markdown",
   "metadata": {},
   "source": [
    "#### Self-attention mask\n",
    "\n",
    "forward masking of $QK^T$ (for self-attention):"
   ]
  },
  {
   "cell_type": "code",
   "execution_count": 28,
   "metadata": {},
   "outputs": [
    {
     "data": {
      "image/png": "[encoded data removed]",
      "text/plain": [
       "<Figure size 640x480 with 2 Axes>"
      ]
     },
     "metadata": {},
     "output_type": "display_data"
    }
   ],
   "source": [
    "def display_qk_heatmap(qk_per_token):\n",
    "    _, ax = plt.subplots()\n",
    "    im = ax.imshow(qk_per_token.to(float).detach(), cmap='viridis')\n",
    "    ax.set_xticks(range(len(tokens)))\n",
    "    ax.set_yticks(range(len(tokens)))\n",
    "    prompt_split_as_tokens = [tokenizer.decode([token.item()]) for token in input_tensor]\n",
    "    ax.set_xticklabels(prompt_split_as_tokens, rotation_mode=\"anchor\", rotation=45, ha=\"right\")\n",
    "    ax.set_yticklabels(prompt_split_as_tokens)\n",
    "    ax.figure.colorbar(im, ax=ax)\n",
    "\n",
    "display_qk_heatmap(qk_layer0_head0_per_token)"
   ]
  },
  {
   "cell_type": "code",
   "execution_count": 29,
   "metadata": {},
   "outputs": [
    {
     "name": "stdout",
     "output_type": "stream",
     "text": [
      "tensor([[0., -inf, -inf, -inf],\n",
      "        [0., 0., -inf, -inf],\n",
      "        [0., 0., 0., -inf],\n",
      "        [0., 0., 0., 0.]])\n"
     ]
    }
   ],
   "source": [
    "mask = torch.full((seq_len, seq_len), float(\"-inf\"))\n",
    "mask = torch.triu(mask, diagonal=1)\n",
    "print(mask)"
   ]
  },
  {
   "cell_type": "code",
   "execution_count": 30,
   "metadata": {},
   "outputs": [
    {
     "data": {
      "image/png": "[encoded data removed]",
      "text/plain": [
       "<Figure size 640x480 with 2 Axes>"
      ]
     },
     "metadata": {},
     "output_type": "display_data"
    }
   ],
   "source": [
    "qk_layer0_head0_per_token_masked = qk_layer0_head0_per_token + mask\n",
    "display_qk_heatmap(qk_layer0_head0_per_token_masked)"
   ]
  },
  {
   "cell_type": "markdown",
   "metadata": {},
   "source": [
    "apply softmax on attention"
   ]
  },
  {
   "cell_type": "code",
   "execution_count": 31,
   "metadata": {},
   "outputs": [
    {
     "data": {
      "image/png": "[encoded data removed]",
      "text/plain": [
       "<Figure size 640x480 with 2 Axes>"
      ]
     },
     "metadata": {},
     "output_type": "display_data"
    }
   ],
   "source": [
    "qk_layer0_head0_per_token_softmax = nn.functional.softmax(qk_layer0_head0_per_token_masked, dim=-1).bfloat16()\n",
    "display_qk_heatmap(qk_layer0_head0_per_token_softmax)"
   ]
  },
  {
   "cell_type": "markdown",
   "metadata": {},
   "source": [
    "#### Values $V$"
   ]
  },
  {
   "cell_type": "code",
   "execution_count": 32,
   "metadata": {},
   "outputs": [
    {
     "data": {
      "text/plain": [
       "torch.Size([8, 128, 4096])"
      ]
     },
     "execution_count": 32,
     "metadata": {},
     "output_type": "execute_result"
    }
   ],
   "source": [
    "v_layer0 = model[\"layers.0.attention.wv.weight\"]\n",
    "v_layer0 = v_layer0.view(model_config[\"n_kv_heads\"], v_layer0.shape[0] // model_config[\"n_kv_heads\"], model_config[\"dim\"])\n",
    "v_layer0.shape"
   ]
  },
  {
   "cell_type": "code",
   "execution_count": 33,
   "metadata": {},
   "outputs": [
    {
     "data": {
      "text/plain": [
       "torch.Size([128, 4096])"
      ]
     },
     "execution_count": 33,
     "metadata": {},
     "output_type": "execute_result"
    }
   ],
   "source": [
    "v_layer0_head0 = v_layer0[0]\n",
    "v_layer0_head0.shape"
   ]
  },
  {
   "cell_type": "code",
   "execution_count": 34,
   "metadata": {},
   "outputs": [
    {
     "data": {
      "text/plain": [
       "torch.Size([4, 128])"
      ]
     },
     "execution_count": 34,
     "metadata": {},
     "output_type": "execute_result"
    }
   ],
   "source": [
    "v_per_token = torch.matmul(token_embeddings_normalized, v_layer0_head0.T)\n",
    "v_per_token.shape"
   ]
  },
  {
   "cell_type": "markdown",
   "metadata": {},
   "source": [
    "attention"
   ]
  },
  {
   "cell_type": "code",
   "execution_count": 35,
   "metadata": {},
   "outputs": [
    {
     "data": {
      "text/plain": [
       "torch.Size([4, 128])"
      ]
     },
     "execution_count": 35,
     "metadata": {},
     "output_type": "execute_result"
    }
   ],
   "source": [
    "qkv_attention = torch.matmul(qk_layer0_head0_per_token_softmax, v_per_token)\n",
    "qkv_attention.shape"
   ]
  },
  {
   "cell_type": "markdown",
   "metadata": {},
   "source": [
    "#### Multi-head attention in layer0"
   ]
  },
  {
   "cell_type": "code",
   "execution_count": 36,
   "metadata": {},
   "outputs": [
    {
     "data": {
      "text/plain": [
       "32"
      ]
     },
     "execution_count": 36,
     "metadata": {},
     "output_type": "execute_result"
    }
   ],
   "source": [
    "qkv_attention_store = []\n",
    "\n",
    "for head in range(model_config[\"n_heads\"]):\n",
    "    q_layer0_head = q_layer0[head]\n",
    "    # keys and values are shared across 4 heads\n",
    "    k_layer0_head = k_layer0[head // 4]\n",
    "    v_layer0_head = v_layer0[head // 4]\n",
    "\n",
    "    q_layer0_head_per_token = torch.matmul(token_embeddings_normalized, q_layer0_head.T)\n",
    "    k_layer0_head_per_token = torch.matmul(token_embeddings_normalized, k_layer0_head.T)\n",
    "    v_layer0_head_per_token = torch.matmul(token_embeddings_normalized, v_layer0_head.T)\n",
    "\n",
    "    q_layer0_per_token_pairs = q_layer0_head_per_token.view(q_layer0_head_per_token.shape[0], -1, 2)\n",
    "    q_layer0_per_token_pairs_complex = torch.view_as_complex(q_layer0_per_token_pairs.float())\n",
    "    q_layer0_per_token_pairs_rotated = torch.view_as_real(q_layer0_per_token_pairs_complex * freqs_cis)\n",
    "    q_layer0_rotated = q_layer0_per_token_pairs_rotated.view(q_layer0_head_per_token.shape)\n",
    "\n",
    "    k_layer0_per_token_pairs = k_layer0_head_per_token.view(k_layer0_head_per_token.shape[0], -1, 2)\n",
    "    k_layer0_per_token_pairs_complex = torch.view_as_complex(k_layer0_per_token_pairs.float())\n",
    "    k_layer0_per_token_pairs_rotated = torch.view_as_real(k_layer0_per_token_pairs_complex * freqs_cis)\n",
    "    k_layer0_rotated = k_layer0_per_token_pairs_rotated.view(k_layer0_head_per_token.shape)\n",
    "\n",
    "    qk_per_token = torch.matmul(q_layer0_rotated, k_layer0_rotated.T) / (model_config[\"dim\"] // model_config[\"n_heads\"]) ** 0.5\n",
    "    mask = torch.full((seq_len, seq_len), float(\"-inf\"))\n",
    "    mask = torch.triu(mask, diagonal=1)\n",
    "    qk_per_token_masked = qk_per_token + mask\n",
    "    qk_per_token_softmax = nn.functional.softmax(qk_per_token_masked, dim=-1).bfloat16()\n",
    "\n",
    "    qkv_attention = torch.matmul(qk_per_token_softmax, v_layer0_head_per_token)\n",
    "    qkv_attention_store.append(qkv_attention)\n",
    "\n",
    "len(qkv_attention_store)"
   ]
  },
  {
   "cell_type": "markdown",
   "metadata": {},
   "source": [
    "#### concat all attention matrices\n",
    "\n",
    "32 rows of 16x128 inside qkv_attention_store"
   ]
  },
  {
   "cell_type": "code",
   "execution_count": 37,
   "metadata": {},
   "outputs": [
    {
     "data": {
      "text/plain": [
       "torch.Size([4, 4096])"
      ]
     },
     "execution_count": 37,
     "metadata": {},
     "output_type": "execute_result"
    }
   ],
   "source": [
    "stacked_qkv_attention = torch.cat(qkv_attention_store, dim=-1)\n",
    "stacked_qkv_attention.shape"
   ]
  },
  {
   "cell_type": "markdown",
   "metadata": {},
   "source": [
    "multiply with final weight matrix (linear layer)"
   ]
  },
  {
   "cell_type": "code",
   "execution_count": 38,
   "metadata": {},
   "outputs": [
    {
     "data": {
      "text/plain": [
       "torch.Size([4096, 4096])"
      ]
     },
     "execution_count": 38,
     "metadata": {},
     "output_type": "execute_result"
    }
   ],
   "source": [
    "w_layer0 = model[\"layers.0.attention.wo.weight\"]\n",
    "w_layer0.shape"
   ]
  },
  {
   "cell_type": "code",
   "execution_count": 39,
   "metadata": {},
   "outputs": [
    {
     "data": {
      "text/plain": [
       "torch.Size([4, 4096])"
      ]
     },
     "execution_count": 39,
     "metadata": {},
     "output_type": "execute_result"
    }
   ],
   "source": [
    "embedding_delta = torch.matmul(stacked_qkv_attention, w_layer0.T)\n",
    "embedding_delta.shape"
   ]
  },
  {
   "cell_type": "code",
   "execution_count": 40,
   "metadata": {},
   "outputs": [
    {
     "data": {
      "text/plain": [
       "torch.Size([4, 4096])"
      ]
     },
     "execution_count": 40,
     "metadata": {},
     "output_type": "execute_result"
    }
   ],
   "source": [
    "embedding_after_edit = token_embeddings + embedding_delta\n",
    "embedding_after_edit.shape"
   ]
  },
  {
   "cell_type": "code",
   "execution_count": 41,
   "metadata": {},
   "outputs": [
    {
     "data": {
      "text/plain": [
       "torch.Size([4, 4096])"
      ]
     },
     "execution_count": 41,
     "metadata": {},
     "output_type": "execute_result"
    }
   ],
   "source": [
    "embedding_after_edit_normalized = rms_norm(embedding_after_edit, model[\"layers.0.ffn_norm.weight\"], model_config[\"norm_eps\"])\n",
    "embedding_after_edit_normalized.shape"
   ]
  },
  {
   "cell_type": "markdown",
   "metadata": {},
   "source": [
    "#### FF SwiGLU at the top of a transformer block"
   ]
  },
  {
   "cell_type": "code",
   "execution_count": 42,
   "metadata": {},
   "outputs": [
    {
     "data": {
      "text/plain": [
       "torch.Size([4, 4096])"
      ]
     },
     "execution_count": 42,
     "metadata": {},
     "output_type": "execute_result"
    }
   ],
   "source": [
    "w1 = model[\"layers.0.feed_forward.w1.weight\"]\n",
    "w2 = model[\"layers.0.feed_forward.w2.weight\"]\n",
    "w3 = model[\"layers.0.feed_forward.w3.weight\"]\n",
    "output_after_feedforward = torch.matmul(\n",
    "    torch.functional.F.silu(torch.matmul(embedding_after_edit_normalized, w1.T)) * torch.matmul(embedding_after_edit_normalized, w3.T),\n",
    "    w2.T\n",
    ")\n",
    "output_after_feedforward.shape"
   ]
  },
  {
   "cell_type": "code",
   "execution_count": 43,
   "metadata": {},
   "outputs": [
    {
     "data": {
      "text/plain": [
       "torch.Size([4, 4096])"
      ]
     },
     "execution_count": 43,
     "metadata": {},
     "output_type": "execute_result"
    }
   ],
   "source": [
    "layer_0_embedding = embedding_after_edit+output_after_feedforward\n",
    "layer_0_embedding.shape"
   ]
  },
  {
   "cell_type": "markdown",
   "metadata": {},
   "source": [
    "### full model forward pass (everything at once)"
   ]
  },
  {
   "cell_type": "code",
   "execution_count": 44,
   "metadata": {},
   "outputs": [
    {
     "data": {
      "text/plain": [
       "{'dim': 4096,\n",
       " 'n_layers': 32,\n",
       " 'n_heads': 32,\n",
       " 'n_kv_heads': 8,\n",
       " 'vocab_size': 128256,\n",
       " 'multiple_of': 1024,\n",
       " 'ffn_dim_multiplier': 1.3,\n",
       " 'norm_eps': 1e-05,\n",
       " 'rope_theta': 500000.0}"
      ]
     },
     "execution_count": 44,
     "metadata": {},
     "output_type": "execute_result"
    }
   ],
   "source": [
    "model_config"
   ]
  },
  {
   "cell_type": "code",
   "execution_count": 45,
   "metadata": {},
   "outputs": [
    {
     "data": {
      "text/plain": [
       "torch.Size([4, 4096])"
      ]
     },
     "execution_count": 45,
     "metadata": {},
     "output_type": "execute_result"
    }
   ],
   "source": [
    "final_embedding = token_embeddings\n",
    "\n",
    "for layer in range(model_config[\"n_layers\"]):\n",
    "    qkv_attention_store = []\n",
    "    layer_embedding_norm = rms_norm(final_embedding, model[f\"layers.{layer}.attention_norm.weight\"], model_config[\"norm_eps\"])\n",
    "    q_layer = model[f\"layers.{layer}.attention.wq.weight\"]\n",
    "    q_layer = q_layer.view(model_config[\"n_heads\"], q_layer.shape[0] // model_config[\"n_heads\"], model_config[\"dim\"])\n",
    "    k_layer = model[f\"layers.{layer}.attention.wk.weight\"]\n",
    "    k_layer = k_layer.view(model_config[\"n_kv_heads\"], k_layer.shape[0] // model_config[\"n_kv_heads\"], model_config[\"dim\"])\n",
    "    v_layer = model[f\"layers.{layer}.attention.wv.weight\"]\n",
    "    v_layer = v_layer.view(model_config[\"n_kv_heads\"], v_layer.shape[0] // model_config[\"n_kv_heads\"], model_config[\"dim\"])\n",
    "\n",
    "    for head in range(model_config[\"n_heads\"]):\n",
    "        q_layer_head = q_layer[head]\n",
    "        k_layer_head = k_layer[head // 4]\n",
    "        v_layer_head = v_layer[head // 4]\n",
    "\n",
    "        q_per_token = torch.matmul(layer_embedding_norm, q_layer_head.T)\n",
    "        k_per_token = torch.matmul(layer_embedding_norm, k_layer_head.T)\n",
    "        v_per_token = torch.matmul(layer_embedding_norm, v_layer_head.T)\n",
    "        q_per_token_pairs = q_per_token.view(q_per_token.shape[0], -1, 2)\n",
    "        q_per_token_pairs_complex = torch.view_as_complex(q_per_token_pairs.float())\n",
    "        q_per_token_pairs_rotated = torch.view_as_real(q_per_token_pairs_complex * freqs_cis)\n",
    "        q_rotated = q_per_token_pairs_rotated.view(q_per_token.shape)\n",
    "        k_per_token_pairs = k_per_token.view(k_per_token.shape[0], -1, 2)\n",
    "        k_per_token_pairs_complex = torch.view_as_complex(k_per_token_pairs.float())\n",
    "        k_per_token_pairs_rotated = torch.view_as_real(k_per_token_pairs_complex * freqs_cis)\n",
    "        k_rotated = k_per_token_pairs_rotated.view(k_per_token.shape)\n",
    "        qk_per_token = torch.matmul(q_rotated, k_rotated.T) / (model_config[\"dim\"] // model_config[\"n_heads\"]) ** 0.5\n",
    "        mask = torch.full((seq_len, seq_len), float(\"-inf\"))\n",
    "        mask = torch.triu(mask, diagonal=1)\n",
    "        qk_per_token_masked = qk_per_token + mask\n",
    "        qk_per_token_softmax = nn.functional.softmax(qk_per_token_masked, dim=-1).bfloat16()\n",
    "        qkv_attention = torch.matmul(qk_per_token_softmax, v_per_token)\n",
    "        qkv_attention_store.append(qkv_attention)\n",
    "\n",
    "    stacked_qkv_attention = torch.cat(qkv_attention_store, dim=-1)\n",
    "    w_layer = model[f\"layers.{layer}.attention.wo.weight\"]\n",
    "    embedding_delta = torch.matmul(stacked_qkv_attention, w_layer.T)\n",
    "    embedding_after_edit = final_embedding + embedding_delta\n",
    "    embedding_after_edit_normalized = rms_norm(embedding_after_edit, model[f\"layers.{layer}.ffn_norm.weight\"], model_config[\"norm_eps\"])\n",
    "    w1 = model[f\"layers.{layer}.feed_forward.w1.weight\"]\n",
    "    w2 = model[f\"layers.{layer}.feed_forward.w2.weight\"]\n",
    "    w3 = model[f\"layers.{layer}.feed_forward.w3.weight\"]\n",
    "    output_after_feedforward = torch.matmul(\n",
    "        torch.functional.F.silu(torch.matmul(embedding_after_edit_normalized, w1.T)) * torch.matmul(embedding_after_edit_normalized, w3.T),\n",
    "        w2.T\n",
    "    )\n",
    "    final_embedding = embedding_after_edit+output_after_feedforward\n",
    "\n",
    "final_embedding = rms_norm(final_embedding, model[\"norm.weight\"], model_config[\"norm_eps\"])\n",
    "final_embedding.shape"
   ]
  },
  {
   "cell_type": "markdown",
   "metadata": {},
   "source": [
    "#### decode the final embedding to token value"
   ]
  },
  {
   "cell_type": "code",
   "execution_count": 46,
   "metadata": {},
   "outputs": [
    {
     "data": {
      "text/plain": [
       "torch.Size([128256])"
      ]
     },
     "execution_count": 46,
     "metadata": {},
     "output_type": "execute_result"
    }
   ],
   "source": [
    "logits = torch.matmul(final_embedding[-1], model[\"output.weight\"].T)\n",
    "logits.shape"
   ]
  },
  {
   "cell_type": "code",
   "execution_count": 47,
   "metadata": {},
   "outputs": [
    {
     "data": {
      "text/plain": [
       "tensor(8895)"
      ]
     },
     "execution_count": 47,
     "metadata": {},
     "output_type": "execute_result"
    }
   ],
   "source": [
    "next_token = torch.argmax(logits, dim=-1)\n",
    "next_token"
   ]
  },
  {
   "cell_type": "code",
   "execution_count": 48,
   "metadata": {},
   "outputs": [
    {
     "data": {
      "text/plain": [
       "' gain'"
      ]
     },
     "execution_count": 48,
     "metadata": {},
     "output_type": "execute_result"
    }
   ],
   "source": [
    "tokenizer.decode([next_token.item()])"
   ]
  },
  {
   "cell_type": "code",
   "execution_count": null,
   "metadata": {},
   "outputs": [],
   "source": []
  }
 ],
 "metadata": {
  "kernelspec": {
   "display_name": "ml",
   "language": "python",
   "name": "python3"
  },
  "language_info": {
   "codemirror_mode": {
    "name": "ipython",
    "version": 3
   },
   "file_extension": ".py",
   "mimetype": "text/x-python",
   "name": "python",
   "nbconvert_exporter": "python",
   "pygments_lexer": "ipython3",
   "version": "3.12.4"
  }
 },
 "nbformat": 4,
 "nbformat_minor": 2
}
